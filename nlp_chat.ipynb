{
 "cells": [
  {
   "cell_type": "code",
   "execution_count": 1,
   "metadata": {},
   "outputs": [
    {
     "name": "stderr",
     "output_type": "stream",
     "text": [
      "c:\\Users\\Chulpan\\AppData\\Local\\Programs\\Python\\Python312\\Lib\\site-packages\\sentence_transformers\\cross_encoder\\CrossEncoder.py:11: TqdmExperimentalWarning: Using `tqdm.autonotebook.tqdm` in notebook mode. Use `tqdm.tqdm` instead to force console mode (e.g. in jupyter console)\n",
      "  from tqdm.autonotebook import tqdm, trange\n",
      "[nltk_data] Downloading package punkt to\n",
      "[nltk_data]     C:\\Users\\Chulpan\\AppData\\Roaming\\nltk_data...\n",
      "[nltk_data]   Package punkt is already up-to-date!\n",
      "[nltk_data] Downloading package stopwords to\n",
      "[nltk_data]     C:\\Users\\Chulpan\\AppData\\Roaming\\nltk_data...\n",
      "[nltk_data]   Package stopwords is already up-to-date!\n",
      "[nltk_data] Downloading package wordnet to\n",
      "[nltk_data]     C:\\Users\\Chulpan\\AppData\\Roaming\\nltk_data...\n",
      "[nltk_data]   Package wordnet is already up-to-date!\n"
     ]
    },
    {
     "data": {
      "text/plain": [
       "True"
      ]
     },
     "execution_count": 1,
     "metadata": {},
     "output_type": "execute_result"
    }
   ],
   "source": [
    "\n",
    "import nltk\n",
    "from sentence_transformers import SentenceTransformer, util\n",
    "from nltk.stem import PorterStemmer, WordNetLemmatizer\n",
    "from nltk.corpus import stopwords\n",
    "from nltk.tokenize import RegexpTokenizer, wordpunct_tokenize\n",
    "nltk.download('punkt')\n",
    "nltk.download(\"stopwords\")\n",
    "nltk.download(\"wordnet\")\n"
   ]
  },
  {
   "cell_type": "code",
   "execution_count": 2,
   "metadata": {},
   "outputs": [],
   "source": [
    "text = \"\"\"Given below is a long 500 words speech on health and fitness for the students of Class 7 to Class 12. This speech on the importance of health and fitness can be referred to by the students to prepare for their examination. \n",
    "Greetings everyone! Today I have been provided with an opportunity to deliver a speech on fitness and how our health plays a major role in maintaining our mental as well as physical fitness. Since we are in a generation where everything around us is so technologically advanced and fast, we often get too dependent on machines and technology. Due to our fast-paced and busy schedule, we give less importance to physical fitness and mental health. As a result, all we have become is physically inactive and lazy. But with this are we all heading towards a healthy lifestyle? Sadly, the answer is no. Gone are the days where we used to walk to the nearest stores and take the stairs of our buildings. Also, we are more addicted to eating junk foods and ordering food from outside. Therefore, this has given rise to several diseases starting from cardiovascular diseases, obesity, depression and anxiety.\n",
    "Although there have been several medical technologies and treatments that can get you out of it, all it takes to stop this thing is self-control and a healthy lifestyle. As the saying goes, ‘Health is Wealth’, an individual can only enjoy all the valuables of life if he/she/they is both physically and mentally healthy. The health of an individual plays a major role in his/her/their life and must be taken care of. In spite of our busy schedules, it is our responsibility to prioritize our health and involve ourselves in some kind of physical activity. Physical exercises need not be always strenuous, it can also be done in the form of walking, cycling, yoga and meditation that brings calmness to both mind and body. \n",
    "But, is doing physical activity enough to stay healthy? Well, no. Most of the role to keep us healthy is played by the food we intake. It will be of no use if we intake junk and unhealthy food, rich in sugar and cholesterol levels and try to be healthy. Apart from exercising, it is equally important to drink plenty of water to keep ourselves hydrated. The level of fitness totally depends on the amount of activity our body can perform and the food we consume. Thus, inculcating a habit of eating healthy foods such as fruits, green vegetables and essential vitamins is really important. \n",
    "I hope this health is wealth speech was really helpful in motivating you all to stay physically and mentally healthy. So, it’s high time that we really put our health over everything and take proper care of it. Lastly, I would like to thank all of you for being here today and listening to my speech.\"\"\""
   ]
  },
  {
   "cell_type": "code",
   "execution_count": 13,
   "metadata": {},
   "outputs": [
    {
     "name": "stdout",
     "output_type": "stream",
     "text": [
      "['Given', 'below', 'is', 'a', 'long', '500', 'words', 'speech', 'on', 'health', 'and', 'fitness', 'for', 'the', 'students', 'of', 'Class', '7', 'to', 'Class', '12', '.', 'This', 'speech', 'on', 'the', 'importance', 'of', 'health', 'and', 'fitness', 'can', 'be', 'referred', 'to', 'by', 'the', 'students', 'to', 'prepare', 'for', 'their', 'examination', '.', 'Greetings', 'everyone', '!', 'Today', 'I', 'have', 'been', 'provided', 'with', 'an', 'opportunity', 'to', 'deliver', 'a', 'speech', 'on', 'fitness', 'and', 'how', 'our', 'health', 'plays', 'a', 'major', 'role', 'in', 'maintaining', 'our', 'mental', 'as', 'well', 'as', 'physical', 'fitness', '.', 'Since', 'we', 'are', 'in', 'a', 'generation', 'where', 'everything', 'around', 'us', 'is', 'so', 'technologically', 'advanced', 'and', 'fast', ',', 'we', 'often', 'get', 'too', 'dependent', 'on', 'machines', 'and', 'technology', '.', 'Due', 'to', 'our', 'fast-paced', 'and', 'busy', 'schedule', ',', 'we', 'give', 'less', 'importance', 'to', 'physical', 'fitness', 'and', 'mental', 'health', '.', 'As', 'a', 'result', ',', 'all', 'we', 'have', 'become', 'is', 'physically', 'inactive', 'and', 'lazy', '.', 'But', 'with', 'this', 'are', 'we', 'all', 'heading', 'towards', 'a', 'healthy', 'lifestyle', '?', 'Sadly', ',', 'the', 'answer', 'is', 'no', '.', 'Gone', 'are', 'the', 'days', 'where', 'we', 'used', 'to', 'walk', 'to', 'the', 'nearest', 'stores', 'and', 'take', 'the', 'stairs', 'of', 'our', 'buildings', '.', 'Also', ',', 'we', 'are', 'more', 'addicted', 'to', 'eating', 'junk', 'foods', 'and', 'ordering', 'food', 'from', 'outside', '.', 'Therefore', ',', 'this', 'has', 'given', 'rise', 'to', 'several', 'diseases', 'starting', 'from', 'cardiovascular', 'diseases', ',', 'obesity', ',', 'depression', 'and', 'anxiety', '.', 'Although', 'there', 'have', 'been', 'several', 'medical', 'technologies', 'and', 'treatments', 'that', 'can', 'get', 'you', 'out', 'of', 'it', ',', 'all', 'it', 'takes', 'to', 'stop', 'this', 'thing', 'is', 'self-control', 'and', 'a', 'healthy', 'lifestyle', '.', 'As', 'the', 'saying', 'goes', ',', '‘', 'Health', 'is', 'Wealth', '’', ',', 'an', 'individual', 'can', 'only', 'enjoy', 'all', 'the', 'valuables', 'of', 'life', 'if', 'he/she/they', 'is', 'both', 'physically', 'and', 'mentally', 'healthy', '.', 'The', 'health', 'of', 'an', 'individual', 'plays', 'a', 'major', 'role', 'in', 'his/her/their', 'life', 'and', 'must', 'be', 'taken', 'care', 'of', '.', 'In', 'spite', 'of', 'our', 'busy', 'schedules', ',', 'it', 'is', 'our', 'responsibility', 'to', 'prioritize', 'our', 'health', 'and', 'involve', 'ourselves', 'in', 'some', 'kind', 'of', 'physical', 'activity', '.', 'Physical', 'exercises', 'need', 'not', 'be', 'always', 'strenuous', ',', 'it', 'can', 'also', 'be', 'done', 'in', 'the', 'form', 'of', 'walking', ',', 'cycling', ',', 'yoga', 'and', 'meditation', 'that', 'brings', 'calmness', 'to', 'both', 'mind', 'and', 'body', '.', 'But', ',', 'is', 'doing', 'physical', 'activity', 'enough', 'to', 'stay', 'healthy', '?', 'Well', ',', 'no', '.', 'Most', 'of', 'the', 'role', 'to', 'keep', 'us', 'healthy', 'is', 'played', 'by', 'the', 'food', 'we', 'intake', '.', 'It', 'will', 'be', 'of', 'no', 'use', 'if', 'we', 'intake', 'junk', 'and', 'unhealthy', 'food', ',', 'rich', 'in', 'sugar', 'and', 'cholesterol', 'levels', 'and', 'try', 'to', 'be', 'healthy', '.', 'Apart', 'from', 'exercising', ',', 'it', 'is', 'equally', 'important', 'to', 'drink', 'plenty', 'of', 'water', 'to', 'keep', 'ourselves', 'hydrated', '.', 'The', 'level', 'of', 'fitness', 'totally', 'depends', 'on', 'the', 'amount', 'of', 'activity', 'our', 'body', 'can', 'perform', 'and', 'the', 'food', 'we', 'consume', '.', 'Thus', ',', 'inculcating', 'a', 'habit', 'of', 'eating', 'healthy', 'foods', 'such', 'as', 'fruits', ',', 'green', 'vegetables', 'and', 'essential', 'vitamins', 'is', 'really', 'important', '.', 'I', 'hope', 'this', 'health', 'is', 'wealth', 'speech', 'was', 'really', 'helpful', 'in', 'motivating', 'you', 'all', 'to', 'stay', 'physically', 'and', 'mentally', 'healthy', '.', 'So', ',', 'it', '’', 's', 'high', 'time', 'that', 'we', 'really', 'put', 'our', 'health', 'over', 'everything', 'and', 'take', 'proper', 'care', 'of', 'it', '.', 'Lastly', ',', 'I', 'would', 'like', 'to', 'thank', 'all', 'of', 'you', 'for', 'being', 'here', 'today', 'and', 'listening', 'to', 'my', 'speech', '.']\n"
     ]
    },
    {
     "data": {
      "text/plain": [
       "'Given below is a long 500 words speech on health and fitness for the students of Class 7 to Class 12. This speech on the importance of health and fitness can be referred to by the students to prepare for their examination. \\nGreetings everyone! Today I have been provided with an opportunity to deliver a speech on fitness and how our health plays a major role in maintaining our mental as well as physical fitness. Since we are in a generation where everything around us is so technologically advanced and fast, we often get too dependent on machines and technology. Due to our fast-paced and busy schedule, we give less importance to physical fitness and mental health. As a result, all we have become is physically inactive and lazy. But with this are we all heading towards a healthy lifestyle? Sadly, the answer is no. Gone are the days where we used to walk to the nearest stores and take the stairs of our buildings. Also, we are more addicted to eating junk foods and ordering food from outside. Therefore, this has given rise to several diseases starting from cardiovascular diseases, obesity, depression and anxiety.\\nAlthough there have been several medical technologies and treatments that can get you out of it, all it takes to stop this thing is self-control and a healthy lifestyle. As the saying goes, ‘Health is Wealth’, an individual can only enjoy all the valuables of life if he/she/they is both physically and mentally healthy. The health of an individual plays a major role in his/her/their life and must be taken care of. In spite of our busy schedules, it is our responsibility to prioritize our health and involve ourselves in some kind of physical activity. Physical exercises need not be always strenuous, it can also be done in the form of walking, cycling, yoga and meditation that brings calmness to both mind and body. \\nBut, is doing physical activity enough to stay healthy? Well, no. Most of the role to keep us healthy is played by the food we intake. It will be of no use if we intake junk and unhealthy food, rich in sugar and cholesterol levels and try to be healthy. Apart from exercising, it is equally important to drink plenty of water to keep ourselves hydrated. The level of fitness totally depends on the amount of activity our body can perform and the food we consume. Thus, inculcating a habit of eating healthy foods such as fruits, green vegetables and essential vitamins is really important. \\nI hope this health is wealth speech was really helpful in motivating you all to stay physically and mentally healthy. So, it’s high time that we really put our health over everything and take proper care of it. Lastly, I would like to thank all of you for being here today and listening to my speech.'"
      ]
     },
     "execution_count": 13,
     "metadata": {},
     "output_type": "execute_result"
    }
   ],
   "source": [
    "sent = nltk.word_tokenize(text)\n",
    "print(sent)\n",
    "tokenizer = RegexpTokenizer(r'\\w+')\n",
    "sent = tokenizer.tokenize(text)\n",
    "text"
   ]
  },
  {
   "cell_type": "code",
   "execution_count": 11,
   "metadata": {},
   "outputs": [],
   "source": [
    "model = SentenceTransformer(\"sentence-transformers/distilbert-base-nli-stsb-mean-tokens\")\n"
   ]
  },
  {
   "cell_type": "code",
   "execution_count": 7,
   "metadata": {},
   "outputs": [
    {
     "name": "stdout",
     "output_type": "stream",
     "text": [
      "['G', 'v', 'e', 'n', ' ', 'b', 'e', 'l', 'w', ' ', ' ', ' ', 'l', 'n', 'g', ' ', '5', '0', '0', ' ', 'w', 'r', ' ', 'p', 'e', 'e', 'c', 'h', ' ', 'n', ' ', 'h', 'e', 'l', 'h', ' ', 'n', ' ', 'f', 'n', 'e', ' ', 'f', 'r', ' ', 'h', 'e', ' ', 'u', 'e', 'n', ' ', 'f', ' ', 'C', 'l', ' ', '7', ' ', ' ', 'C', 'l', ' ', '1', '2', '.', ' ', 'h', ' ', 'p', 'e', 'e', 'c', 'h', ' ', 'n', ' ', 'h', 'e', ' ', 'p', 'r', 'n', 'c', 'e', ' ', 'f', ' ', 'h', 'e', 'l', 'h', ' ', 'n', ' ', 'f', 'n', 'e', ' ', 'c', 'n', ' ', 'b', 'e', ' ', 'r', 'e', 'f', 'e', 'r', 'r', 'e', ' ', ' ', 'b', ' ', 'h', 'e', ' ', 'u', 'e', 'n', ' ', ' ', 'p', 'r', 'e', 'p', 'r', 'e', ' ', 'f', 'r', ' ', 'h', 'e', 'r', ' ', 'e', 'x', 'n', 'n', '.', ' ', '\\n', 'G', 'r', 'e', 'e', 'n', 'g', ' ', 'e', 'v', 'e', 'r', 'n', 'e', '!', ' ', ' ', ' ', 'h', 'v', 'e', ' ', 'b', 'e', 'e', 'n', ' ', 'p', 'r', 'v', 'e', ' ', 'w', 'h', ' ', 'n', ' ', 'p', 'p', 'r', 'u', 'n', ' ', ' ', 'e', 'l', 'v', 'e', 'r', ' ', ' ', 'p', 'e', 'e', 'c', 'h', ' ', 'n', ' ', 'f', 'n', 'e', ' ', 'n', ' ', 'h', 'w', ' ', 'u', 'r', ' ', 'h', 'e', 'l', 'h', ' ', 'p', 'l', ' ', ' ', 'j', 'r', ' ', 'r', 'l', 'e', ' ', 'n', ' ', 'n', 'n', 'n', 'g', ' ', 'u', 'r', ' ', 'e', 'n', 'l', ' ', ' ', 'w', 'e', 'l', 'l', ' ', ' ', 'p', 'h', 'c', 'l', ' ', 'f', 'n', 'e', '.', ' ', 'n', 'c', 'e', ' ', 'w', 'e', ' ', 'r', 'e', ' ', 'n', ' ', ' ', 'g', 'e', 'n', 'e', 'r', 'n', ' ', 'w', 'h', 'e', 'r', 'e', ' ', 'e', 'v', 'e', 'r', 'h', 'n', 'g', ' ', 'r', 'u', 'n', ' ', 'u', ' ', ' ', ' ', 'e', 'c', 'h', 'n', 'l', 'g', 'c', 'l', 'l', ' ', 'v', 'n', 'c', 'e', ' ', 'n', ' ', 'f', ',', ' ', 'w', 'e', ' ', 'f', 'e', 'n', ' ', 'g', 'e', ' ', ' ', 'e', 'p', 'e', 'n', 'e', 'n', ' ', 'n', ' ', 'c', 'h', 'n', 'e', ' ', 'n', ' ', 'e', 'c', 'h', 'n', 'l', 'g', '.', ' ', 'u', 'e', ' ', ' ', 'u', 'r', ' ', 'f', '-', 'p', 'c', 'e', ' ', 'n', ' ', 'b', 'u', ' ', 'c', 'h', 'e', 'u', 'l', 'e', ',', ' ', 'w', 'e', ' ', 'g', 'v', 'e', ' ', 'l', 'e', ' ', 'p', 'r', 'n', 'c', 'e', ' ', ' ', 'p', 'h', 'c', 'l', ' ', 'f', 'n', 'e', ' ', 'n', ' ', 'e', 'n', 'l', ' ', 'h', 'e', 'l', 'h', '.', ' ', ' ', ' ', 'r', 'e', 'u', 'l', ',', ' ', 'l', 'l', ' ', 'w', 'e', ' ', 'h', 'v', 'e', ' ', 'b', 'e', 'c', 'e', ' ', ' ', 'p', 'h', 'c', 'l', 'l', ' ', 'n', 'c', 'v', 'e', ' ', 'n', ' ', 'l', 'z', '.', ' ', 'B', 'u', ' ', 'w', 'h', ' ', 'h', ' ', 'r', 'e', ' ', 'w', 'e', ' ', 'l', 'l', ' ', 'h', 'e', 'n', 'g', ' ', 'w', 'r', ' ', ' ', 'h', 'e', 'l', 'h', ' ', 'l', 'f', 'e', 'l', 'e', '?', ' ', 'l', ',', ' ', 'h', 'e', ' ', 'n', 'w', 'e', 'r', ' ', ' ', 'n', '.', ' ', 'G', 'n', 'e', ' ', 'r', 'e', ' ', 'h', 'e', ' ', ' ', 'w', 'h', 'e', 'r', 'e', ' ', 'w', 'e', ' ', 'u', 'e', ' ', ' ', 'w', 'l', 'k', ' ', ' ', 'h', 'e', ' ', 'n', 'e', 'r', 'e', ' ', 'r', 'e', ' ', 'n', ' ', 'k', 'e', ' ', 'h', 'e', ' ', 'r', ' ', 'f', ' ', 'u', 'r', ' ', 'b', 'u', 'l', 'n', 'g', '.', ' ', 'l', ',', ' ', 'w', 'e', ' ', 'r', 'e', ' ', 'r', 'e', ' ', 'c', 'e', ' ', ' ', 'e', 'n', 'g', ' ', 'j', 'u', 'n', 'k', ' ', 'f', ' ', 'n', ' ', 'r', 'e', 'r', 'n', 'g', ' ', 'f', ' ', 'f', 'r', ' ', 'u', 'e', '.', ' ', 'h', 'e', 'r', 'e', 'f', 'r', 'e', ',', ' ', 'h', ' ', 'h', ' ', 'g', 'v', 'e', 'n', ' ', 'r', 'e', ' ', ' ', 'e', 'v', 'e', 'r', 'l', ' ', 'e', 'e', ' ', 'r', 'n', 'g', ' ', 'f', 'r', ' ', 'c', 'r', 'v', 'c', 'u', 'l', 'r', ' ', 'e', 'e', ',', ' ', 'b', 'e', ',', ' ', 'e', 'p', 'r', 'e', 'n', ' ', 'n', ' ', 'n', 'x', 'e', '.', '\\n', 'l', 'h', 'u', 'g', 'h', ' ', 'h', 'e', 'r', 'e', ' ', 'h', 'v', 'e', ' ', 'b', 'e', 'e', 'n', ' ', 'e', 'v', 'e', 'r', 'l', ' ', 'e', 'c', 'l', ' ', 'e', 'c', 'h', 'n', 'l', 'g', 'e', ' ', 'n', ' ', 'r', 'e', 'e', 'n', ' ', 'h', ' ', 'c', 'n', ' ', 'g', 'e', ' ', 'u', ' ', 'u', ' ', 'f', ' ', ',', ' ', 'l', 'l', ' ', ' ', 'k', 'e', ' ', ' ', 'p', ' ', 'h', ' ', 'h', 'n', 'g', ' ', ' ', 'e', 'l', 'f', '-', 'c', 'n', 'r', 'l', ' ', 'n', ' ', ' ', 'h', 'e', 'l', 'h', ' ', 'l', 'f', 'e', 'l', 'e', '.', ' ', ' ', 'h', 'e', ' ', 'n', 'g', ' ', 'g', 'e', ',', ' ', '‘', 'H', 'e', 'l', 'h', ' ', ' ', 'W', 'e', 'l', 'h', '’', ',', ' ', 'n', ' ', 'n', 'v', 'u', 'l', ' ', 'c', 'n', ' ', 'n', 'l', ' ', 'e', 'n', 'j', ' ', 'l', 'l', ' ', 'h', 'e', ' ', 'v', 'l', 'u', 'b', 'l', 'e', ' ', 'f', ' ', 'l', 'f', 'e', ' ', 'f', ' ', 'h', 'e', '/', 'h', 'e', '/', 'h', 'e', ' ', ' ', 'b', 'h', ' ', 'p', 'h', 'c', 'l', 'l', ' ', 'n', ' ', 'e', 'n', 'l', 'l', ' ', 'h', 'e', 'l', 'h', '.', ' ', 'h', 'e', ' ', 'h', 'e', 'l', 'h', ' ', 'f', ' ', 'n', ' ', 'n', 'v', 'u', 'l', ' ', 'p', 'l', ' ', ' ', 'j', 'r', ' ', 'r', 'l', 'e', ' ', 'n', ' ', 'h', '/', 'h', 'e', 'r', '/', 'h', 'e', 'r', ' ', 'l', 'f', 'e', ' ', 'n', ' ', 'u', ' ', 'b', 'e', ' ', 'k', 'e', 'n', ' ', 'c', 'r', 'e', ' ', 'f', '.', ' ', 'n', ' ', 'p', 'e', ' ', 'f', ' ', 'u', 'r', ' ', 'b', 'u', ' ', 'c', 'h', 'e', 'u', 'l', 'e', ',', ' ', ' ', ' ', 'u', 'r', ' ', 'r', 'e', 'p', 'n', 'b', 'l', ' ', ' ', 'p', 'r', 'r', 'z', 'e', ' ', 'u', 'r', ' ', 'h', 'e', 'l', 'h', ' ', 'n', ' ', 'n', 'v', 'l', 'v', 'e', ' ', 'u', 'r', 'e', 'l', 'v', 'e', ' ', 'n', ' ', 'e', ' ', 'k', 'n', ' ', 'f', ' ', 'p', 'h', 'c', 'l', ' ', 'c', 'v', '.', ' ', 'P', 'h', 'c', 'l', ' ', 'e', 'x', 'e', 'r', 'c', 'e', ' ', 'n', 'e', 'e', ' ', 'n', ' ', 'b', 'e', ' ', 'l', 'w', ' ', 'r', 'e', 'n', 'u', 'u', ',', ' ', ' ', 'c', 'n', ' ', 'l', ' ', 'b', 'e', ' ', 'n', 'e', ' ', 'n', ' ', 'h', 'e', ' ', 'f', 'r', ' ', 'f', ' ', 'w', 'l', 'k', 'n', 'g', ',', ' ', 'c', 'c', 'l', 'n', 'g', ',', ' ', 'g', ' ', 'n', ' ', 'e', 'n', ' ', 'h', ' ', 'b', 'r', 'n', 'g', ' ', 'c', 'l', 'n', 'e', ' ', ' ', 'b', 'h', ' ', 'n', ' ', 'n', ' ', 'b', '.', ' ', '\\n', 'B', 'u', ',', ' ', ' ', 'n', 'g', ' ', 'p', 'h', 'c', 'l', ' ', 'c', 'v', ' ', 'e', 'n', 'u', 'g', 'h', ' ', ' ', ' ', 'h', 'e', 'l', 'h', '?', ' ', 'W', 'e', 'l', 'l', ',', ' ', 'n', '.', ' ', ' ', 'f', ' ', 'h', 'e', ' ', 'r', 'l', 'e', ' ', ' ', 'k', 'e', 'e', 'p', ' ', 'u', ' ', 'h', 'e', 'l', 'h', ' ', ' ', 'p', 'l', 'e', ' ', 'b', ' ', 'h', 'e', ' ', 'f', ' ', 'w', 'e', ' ', 'n', 'k', 'e', '.', ' ', ' ', 'w', 'l', 'l', ' ', 'b', 'e', ' ', 'f', ' ', 'n', ' ', 'u', 'e', ' ', 'f', ' ', 'w', 'e', ' ', 'n', 'k', 'e', ' ', 'j', 'u', 'n', 'k', ' ', 'n', ' ', 'u', 'n', 'h', 'e', 'l', 'h', ' ', 'f', ',', ' ', 'r', 'c', 'h', ' ', 'n', ' ', 'u', 'g', 'r', ' ', 'n', ' ', 'c', 'h', 'l', 'e', 'e', 'r', 'l', ' ', 'l', 'e', 'v', 'e', 'l', ' ', 'n', ' ', 'r', ' ', ' ', 'b', 'e', ' ', 'h', 'e', 'l', 'h', '.', ' ', 'p', 'r', ' ', 'f', 'r', ' ', 'e', 'x', 'e', 'r', 'c', 'n', 'g', ',', ' ', ' ', ' ', 'e', 'q', 'u', 'l', 'l', ' ', 'p', 'r', 'n', ' ', ' ', 'r', 'n', 'k', ' ', 'p', 'l', 'e', 'n', ' ', 'f', ' ', 'w', 'e', 'r', ' ', ' ', 'k', 'e', 'e', 'p', ' ', 'u', 'r', 'e', 'l', 'v', 'e', ' ', 'h', 'r', 'e', '.', ' ', 'h', 'e', ' ', 'l', 'e', 'v', 'e', 'l', ' ', 'f', ' ', 'f', 'n', 'e', ' ', 'l', 'l', ' ', 'e', 'p', 'e', 'n', ' ', 'n', ' ', 'h', 'e', ' ', 'u', 'n', ' ', 'f', ' ', 'c', 'v', ' ', 'u', 'r', ' ', 'b', ' ', 'c', 'n', ' ', 'p', 'e', 'r', 'f', 'r', ' ', 'n', ' ', 'h', 'e', ' ', 'f', ' ', 'w', 'e', ' ', 'c', 'n', 'u', 'e', '.', ' ', 'h', 'u', ',', ' ', 'n', 'c', 'u', 'l', 'c', 'n', 'g', ' ', ' ', 'h', 'b', ' ', 'f', ' ', 'e', 'n', 'g', ' ', 'h', 'e', 'l', 'h', ' ', 'f', ' ', 'u', 'c', 'h', ' ', ' ', 'f', 'r', 'u', ',', ' ', 'g', 'r', 'e', 'e', 'n', ' ', 'v', 'e', 'g', 'e', 'b', 'l', 'e', ' ', 'n', ' ', 'e', 'e', 'n', 'l', ' ', 'v', 'n', ' ', ' ', 'r', 'e', 'l', 'l', ' ', 'p', 'r', 'n', '.', ' ', '\\n', ' ', 'h', 'p', 'e', ' ', 'h', ' ', 'h', 'e', 'l', 'h', ' ', ' ', 'w', 'e', 'l', 'h', ' ', 'p', 'e', 'e', 'c', 'h', ' ', 'w', ' ', 'r', 'e', 'l', 'l', ' ', 'h', 'e', 'l', 'p', 'f', 'u', 'l', ' ', 'n', ' ', 'v', 'n', 'g', ' ', 'u', ' ', 'l', 'l', ' ', ' ', ' ', 'p', 'h', 'c', 'l', 'l', ' ', 'n', ' ', 'e', 'n', 'l', 'l', ' ', 'h', 'e', 'l', 'h', '.', ' ', ',', ' ', '’', ' ', 'h', 'g', 'h', ' ', 'e', ' ', 'h', ' ', 'w', 'e', ' ', 'r', 'e', 'l', 'l', ' ', 'p', 'u', ' ', 'u', 'r', ' ', 'h', 'e', 'l', 'h', ' ', 'v', 'e', 'r', ' ', 'e', 'v', 'e', 'r', 'h', 'n', 'g', ' ', 'n', ' ', 'k', 'e', ' ', 'p', 'r', 'p', 'e', 'r', ' ', 'c', 'r', 'e', ' ', 'f', ' ', '.', ' ', 'L', 'l', ',', ' ', ' ', 'w', 'u', 'l', ' ', 'l', 'k', 'e', ' ', ' ', 'h', 'n', 'k', ' ', 'l', 'l', ' ', 'f', ' ', 'u', ' ', 'f', 'r', ' ', 'b', 'e', 'n', 'g', ' ', 'h', 'e', 'r', 'e', ' ', ' ', 'n', ' ', 'l', 'e', 'n', 'n', 'g', ' ', ' ', ' ', 'p', 'e', 'e', 'c', 'h', '.']\n"
     ]
    }
   ],
   "source": [
    "stop_words = set(stopwords.words('english'))\n",
    "filtered_sentence = [w for w in sent if not w.lower() in stop_words]\n",
    "print(filtered_sentence)"
   ]
  },
  {
   "cell_type": "code",
   "execution_count": 14,
   "metadata": {},
   "outputs": [
    {
     "ename": "TypeError",
     "evalue": "expected string or bytes-like object, got 'list'",
     "output_type": "error",
     "traceback": [
      "\u001b[1;31m---------------------------------------------------------------------------\u001b[0m",
      "\u001b[1;31mTypeError\u001b[0m                                 Traceback (most recent call last)",
      "Cell \u001b[1;32mIn[14], line 1\u001b[0m\n\u001b[1;32m----> 1\u001b[0m \u001b[43mwordpunct_tokenize\u001b[49m\u001b[43m(\u001b[49m\u001b[43mwords\u001b[49m\u001b[43m)\u001b[49m\n",
      "File \u001b[1;32mc:\\Users\\Chulpan\\AppData\\Local\\Programs\\Python\\Python312\\Lib\\site-packages\\nltk\\tokenize\\regexp.py:133\u001b[0m, in \u001b[0;36mRegexpTokenizer.tokenize\u001b[1;34m(self, text)\u001b[0m\n\u001b[0;32m    129\u001b[0m         \u001b[38;5;28;01mreturn\u001b[39;00m \u001b[38;5;28mself\u001b[39m\u001b[38;5;241m.\u001b[39m_regexp\u001b[38;5;241m.\u001b[39msplit(text)\n\u001b[0;32m    131\u001b[0m \u001b[38;5;66;03m# If our regexp matches tokens, use re.findall:\u001b[39;00m\n\u001b[0;32m    132\u001b[0m \u001b[38;5;28;01melse\u001b[39;00m:\n\u001b[1;32m--> 133\u001b[0m     \u001b[38;5;28;01mreturn\u001b[39;00m \u001b[38;5;28;43mself\u001b[39;49m\u001b[38;5;241;43m.\u001b[39;49m\u001b[43m_regexp\u001b[49m\u001b[38;5;241;43m.\u001b[39;49m\u001b[43mfindall\u001b[49m\u001b[43m(\u001b[49m\u001b[43mtext\u001b[49m\u001b[43m)\u001b[49m\n",
      "\u001b[1;31mTypeError\u001b[0m: expected string or bytes-like object, got 'list'"
     ]
    }
   ],
   "source": [
    "wordpunct_tokenize(words)"
   ]
  },
  {
   "cell_type": "code",
   "execution_count": null,
   "metadata": {},
   "outputs": [],
   "source": []
  }
 ],
 "metadata": {
  "kernelspec": {
   "display_name": "Python 3",
   "language": "python",
   "name": "python3"
  },
  "language_info": {
   "codemirror_mode": {
    "name": "ipython",
    "version": 3
   },
   "file_extension": ".py",
   "mimetype": "text/x-python",
   "name": "python",
   "nbconvert_exporter": "python",
   "pygments_lexer": "ipython3",
   "version": "3.12.0"
  }
 },
 "nbformat": 4,
 "nbformat_minor": 2
}
